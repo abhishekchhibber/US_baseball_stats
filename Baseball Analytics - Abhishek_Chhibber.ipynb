{
 "cells": [
  {
   "cell_type": "code",
   "execution_count": 1,
   "metadata": {
    "collapsed": false
   },
   "outputs": [],
   "source": [
    "#importing required libraries\n",
    "import pandas as pd\n",
    "import numpy as np\n",
    "import matplotlib.pyplot as plt\n",
    "import seaborn as sns\n",
    "%matplotlib inline\n"
   ]
  },
  {
   "cell_type": "code",
   "execution_count": 2,
   "metadata": {
    "collapsed": true
   },
   "outputs": [],
   "source": [
    "# reading required csv files\n",
    "managersDF = pd.read_csv('Managers.csv')\n",
    "#teamDF = pd.read_csv('Teams.csv')\n",
    "masterDF = pd.read_csv('Master.csv')\n",
    "TeamsDF = pd.read_csv('Teams.csv')"
   ]
  },
  {
   "cell_type": "markdown",
   "metadata": {},
   "source": [
    "### Data Wrangling \n",
    "\n",
    "* There are no missing values in the main dataframe.\n",
    "* Since the main dataframe managersDF does not have full names of teams and managers, I have used other dataframes 'masterDF' and 'TeamsDF' for the information.\n",
    "* Further, some teams had several names in the 'TeamsDF'. E.g. for team code 'CHN' the team had names such as 'Chicago White Stockings', 'Chicago Colts', 'Chicago Orphans', and 'Chicago Cubs'. To deal with this situation, I have used a function to get the name, corresponding to the latest year for teamID."
   ]
  },
  {
   "cell_type": "code",
   "execution_count": 3,
   "metadata": {
    "collapsed": false
   },
   "outputs": [
    {
     "name": "stdout",
     "output_type": "stream",
     "text": [
      "<class 'pandas.core.frame.DataFrame'>\n",
      "RangeIndex: 3405 entries, 0 to 3404\n",
      "Data columns (total 10 columns):\n",
      "playerID    3405 non-null object\n",
      "yearID      3405 non-null int64\n",
      "teamID      3405 non-null object\n",
      "lgID        3338 non-null object\n",
      "inseason    3405 non-null int64\n",
      "G           3405 non-null int64\n",
      "W           3405 non-null int64\n",
      "L           3405 non-null int64\n",
      "rank        3404 non-null float64\n",
      "plyrMgr     3405 non-null object\n",
      "dtypes: float64(1), int64(5), object(4)\n",
      "memory usage: 266.1+ KB\n"
     ]
    }
   ],
   "source": [
    "managersDF.info()"
   ]
  },
  {
   "cell_type": "markdown",
   "metadata": {},
   "source": [
    "## 1) Analaysis on managers, teams, and managers' average tenure\n",
    "\n",
    "\n",
    "### Finding total number of managers and teams"
   ]
  },
  {
   "cell_type": "code",
   "execution_count": 4,
   "metadata": {
    "collapsed": false
   },
   "outputs": [
    {
     "name": "stdout",
     "output_type": "stream",
     "text": [
      "There are 696 unique managers in the dataset.\n",
      "There are 149 unique teams in the dataset.\n"
     ]
    }
   ],
   "source": [
    "managerNum = pd.unique(managersDF['playerID'])\n",
    "teamNum = pd.unique(managersDF['teamID'])\n",
    "\n",
    "print(\"There are \" + str(len(managerNum)) +\" unique managers in the dataset.\")\n",
    "print(\"There are \" + str(len(teamNum)) +\" unique teams in the dataset.\")"
   ]
  },
  {
   "cell_type": "markdown",
   "metadata": {},
   "source": [
    "### Finding managers with more than one team\n",
    "\n",
    "I have grouped managers to teams to check if any manager is with more than one team"
   ]
  },
  {
   "cell_type": "code",
   "execution_count": 5,
   "metadata": {
    "collapsed": false,
    "scrolled": true
   },
   "outputs": [
    {
     "data": {
      "text/html": [
       "<div>\n",
       "<table border=\"1\" class=\"dataframe\">\n",
       "  <thead>\n",
       "    <tr style=\"text-align: right;\">\n",
       "      <th></th>\n",
       "      <th></th>\n",
       "      <th>count</th>\n",
       "    </tr>\n",
       "    <tr>\n",
       "      <th>playerID</th>\n",
       "      <th>teamID</th>\n",
       "      <th></th>\n",
       "    </tr>\n",
       "  </thead>\n",
       "  <tbody>\n",
       "    <tr>\n",
       "      <th rowspan=\"2\" valign=\"top\">actama99</th>\n",
       "      <th>CLE</th>\n",
       "      <td>3</td>\n",
       "    </tr>\n",
       "    <tr>\n",
       "      <th>WAS</th>\n",
       "      <td>3</td>\n",
       "    </tr>\n",
       "    <tr>\n",
       "      <th>adairbi99</th>\n",
       "      <th>CHA</th>\n",
       "      <td>1</td>\n",
       "    </tr>\n",
       "    <tr>\n",
       "      <th>adcocjo01</th>\n",
       "      <th>CLE</th>\n",
       "      <td>1</td>\n",
       "    </tr>\n",
       "    <tr>\n",
       "      <th>addybo01</th>\n",
       "      <th>CN1</th>\n",
       "      <td>1</td>\n",
       "    </tr>\n",
       "  </tbody>\n",
       "</table>\n",
       "</div>"
      ],
      "text/plain": [
       "                  count\n",
       "playerID  teamID       \n",
       "actama99  CLE         3\n",
       "          WAS         3\n",
       "adairbi99 CHA         1\n",
       "adcocjo01 CLE         1\n",
       "addybo01  CN1         1"
      ]
     },
     "execution_count": 5,
     "metadata": {},
     "output_type": "execute_result"
    }
   ],
   "source": [
    "manager_groupDF = managersDF.groupby(['playerID', 'teamID']).G.agg(['count'])\n",
    "manager_groupDF.head()"
   ]
  },
  {
   "cell_type": "code",
   "execution_count": 6,
   "metadata": {
    "collapsed": false
   },
   "outputs": [],
   "source": [
    "# since manager_groupDF has multi-index count, I have converted into a seperated DataFrame to get teamID count \n",
    "tempDF = manager_groupDF.reset_index().groupby('playerID')['teamID'].nunique()\n",
    "managerByTeamCount = tempDF.add_suffix('').reset_index()\n",
    "managerByTeamCount.rename(columns={'teamID': 'Teams_Managed'}, inplace=True)"
   ]
  },
  {
   "cell_type": "code",
   "execution_count": 7,
   "metadata": {
    "collapsed": false
   },
   "outputs": [
    {
     "data": {
      "text/html": [
       "<div>\n",
       "<table border=\"1\" class=\"dataframe\">\n",
       "  <thead>\n",
       "    <tr style=\"text-align: right;\">\n",
       "      <th></th>\n",
       "      <th>playerID</th>\n",
       "      <th>Teams_Managed</th>\n",
       "    </tr>\n",
       "  </thead>\n",
       "  <tbody>\n",
       "    <tr>\n",
       "      <th>0</th>\n",
       "      <td>actama99</td>\n",
       "      <td>2</td>\n",
       "    </tr>\n",
       "    <tr>\n",
       "      <th>1</th>\n",
       "      <td>adairbi99</td>\n",
       "      <td>1</td>\n",
       "    </tr>\n",
       "    <tr>\n",
       "      <th>2</th>\n",
       "      <td>adcocjo01</td>\n",
       "      <td>1</td>\n",
       "    </tr>\n",
       "    <tr>\n",
       "      <th>3</th>\n",
       "      <td>addybo01</td>\n",
       "      <td>2</td>\n",
       "    </tr>\n",
       "    <tr>\n",
       "      <th>4</th>\n",
       "      <td>allenbo01</td>\n",
       "      <td>2</td>\n",
       "    </tr>\n",
       "  </tbody>\n",
       "</table>\n",
       "</div>"
      ],
      "text/plain": [
       "    playerID  Teams_Managed\n",
       "0   actama99              2\n",
       "1  adairbi99              1\n",
       "2  adcocjo01              1\n",
       "3   addybo01              2\n",
       "4  allenbo01              2"
      ]
     },
     "execution_count": 7,
     "metadata": {},
     "output_type": "execute_result"
    }
   ],
   "source": [
    "managerByTeamCount.head()"
   ]
  },
  {
   "cell_type": "code",
   "execution_count": 8,
   "metadata": {
    "collapsed": false
   },
   "outputs": [
    {
     "data": {
      "text/plain": [
       "Teams_Managed    1.71\n",
       "dtype: float64"
      ]
     },
     "execution_count": 8,
     "metadata": {},
     "output_type": "execute_result"
    }
   ],
   "source": [
    "#Calculating average numbers of teams managed / manager\n",
    "avgTeams = managerByTeamCount.mean().round(2)\n",
    "avgTeams"
   ]
  },
  {
   "cell_type": "code",
   "execution_count": 10,
   "metadata": {
    "collapsed": false
   },
   "outputs": [
    {
     "data": {
      "text/html": [
       "<div>\n",
       "<table border=\"1\" class=\"dataframe\">\n",
       "  <thead>\n",
       "    <tr>\n",
       "      <th></th>\n",
       "      <th>playerID</th>\n",
       "      <th>Count_Percentage</th>\n",
       "    </tr>\n",
       "    <tr>\n",
       "      <th></th>\n",
       "      <th>count</th>\n",
       "      <th></th>\n",
       "    </tr>\n",
       "    <tr>\n",
       "      <th>Teams_Managed</th>\n",
       "      <th></th>\n",
       "      <th></th>\n",
       "    </tr>\n",
       "  </thead>\n",
       "  <tbody>\n",
       "    <tr>\n",
       "      <th>1</th>\n",
       "      <td>425</td>\n",
       "      <td>61.063218</td>\n",
       "    </tr>\n",
       "    <tr>\n",
       "      <th>2</th>\n",
       "      <td>153</td>\n",
       "      <td>21.982759</td>\n",
       "    </tr>\n",
       "    <tr>\n",
       "      <th>3</th>\n",
       "      <td>59</td>\n",
       "      <td>8.477011</td>\n",
       "    </tr>\n",
       "    <tr>\n",
       "      <th>4</th>\n",
       "      <td>31</td>\n",
       "      <td>4.454023</td>\n",
       "    </tr>\n",
       "    <tr>\n",
       "      <th>5</th>\n",
       "      <td>18</td>\n",
       "      <td>2.586207</td>\n",
       "    </tr>\n",
       "    <tr>\n",
       "      <th>6</th>\n",
       "      <td>7</td>\n",
       "      <td>1.005747</td>\n",
       "    </tr>\n",
       "    <tr>\n",
       "      <th>7</th>\n",
       "      <td>2</td>\n",
       "      <td>0.287356</td>\n",
       "    </tr>\n",
       "    <tr>\n",
       "      <th>9</th>\n",
       "      <td>1</td>\n",
       "      <td>0.143678</td>\n",
       "    </tr>\n",
       "  </tbody>\n",
       "</table>\n",
       "</div>"
      ],
      "text/plain": [
       "              playerID Count_Percentage\n",
       "                 count                 \n",
       "Teams_Managed                          \n",
       "1                  425        61.063218\n",
       "2                  153        21.982759\n",
       "3                   59         8.477011\n",
       "4                   31         4.454023\n",
       "5                   18         2.586207\n",
       "6                    7         1.005747\n",
       "7                    2         0.287356\n",
       "9                    1         0.143678"
      ]
     },
     "execution_count": 10,
     "metadata": {},
     "output_type": "execute_result"
    }
   ],
   "source": [
    "# I have grouped managers by number of teams managed by them, and then presented it in form of frequency and percentage\n",
    "\n",
    "managedTeams = managerByTeamCount.groupby(['Teams_Managed']).agg(['count'])\n",
    "\n",
    "managedTeamsSum = managedTeams.playerID['count'].sum()\n",
    "managedTeams['Count_Percentage'] =  (managedTeams.playerID['count']/managedTeamsSum)*100\n",
    "\n",
    "managedTeams"
   ]
  },
  {
   "cell_type": "code",
   "execution_count": 11,
   "metadata": {
    "collapsed": false
   },
   "outputs": [
    {
     "data": {
      "text/plain": [
       "array([<matplotlib.axes._subplots.AxesSubplot object at 0x000000ACA3188C18>], dtype=object)"
      ]
     },
     "execution_count": 11,
     "metadata": {},
     "output_type": "execute_result"
    },
    {
     "data": {
      "image/png": "[encoded data removed]",
      "text/plain": [
       "<matplotlib.figure.Figure at 0xaca3160cc0>"
      ]
     },
     "metadata": {},
     "output_type": "display_data"
    }
   ],
   "source": [
    "managedTeams[['Count_Percentage']].plot(kind='pie',subplots=True, legend=None, label='Teams Managed')"
   ]
  },
  {
   "cell_type": "markdown",
   "metadata": {},
   "source": [
    "Creating a function to find manager's name against his id"
   ]
  },
  {
   "cell_type": "code",
   "execution_count": 12,
   "metadata": {
    "collapsed": true
   },
   "outputs": [],
   "source": [
    "def findName (id):\n",
    "    record = masterDF.loc[masterDF['playerID'].isin([id])]\n",
    "    fName = record.nameFirst\n",
    "    lName = record.nameLast\n",
    "    fullName = fName+\" \"+lName\n",
    "    return pd.Series(dict(col2=fullName))"
   ]
  },
  {
   "cell_type": "markdown",
   "metadata": {},
   "source": [
    "creating a function to find a team's name, against it's id\n",
    "\n",
    "Since one teamID can have more than one name over a period of time (e.g. CHN), I have considered the latest name"
   ]
  },
  {
   "cell_type": "code",
   "execution_count": 13,
   "metadata": {
    "collapsed": true
   },
   "outputs": [],
   "source": [
    "def getTeam(id):\n",
    "    TeamsDF.sort_values(by='yearID', axis=0, ascending=False, inplace=True, kind='quicksort', na_position='last')\n",
    "    team_ids = TeamsDF[TeamsDF['teamID'].isin([id])]\n",
    "    team_row = team_ids.loc[[team_ids['yearID'].argmax()]]\n",
    "    team_name = team_row.name\n",
    "    return(team_name)"
   ]
  },
  {
   "cell_type": "code",
   "execution_count": 14,
   "metadata": {
    "collapsed": false
   },
   "outputs": [],
   "source": [
    "managerByTeamCount['Manager Name'] = managerByTeamCount.playerID.apply(lambda x : findName(x))"
   ]
  },
  {
   "cell_type": "code",
   "execution_count": 15,
   "metadata": {
    "collapsed": false
   },
   "outputs": [
    {
     "data": {
      "text/html": [
       "<div>\n",
       "<table border=\"1\" class=\"dataframe\">\n",
       "  <thead>\n",
       "    <tr style=\"text-align: right;\">\n",
       "      <th></th>\n",
       "      <th>playerID</th>\n",
       "      <th>Teams_Managed</th>\n",
       "      <th>Manager Name</th>\n",
       "    </tr>\n",
       "  </thead>\n",
       "  <tbody>\n",
       "    <tr>\n",
       "      <th>0</th>\n",
       "      <td>actama99</td>\n",
       "      <td>2</td>\n",
       "      <td>55    Manny Acta\n",
       "dtype: object</td>\n",
       "    </tr>\n",
       "    <tr>\n",
       "      <th>1</th>\n",
       "      <td>adairbi99</td>\n",
       "      <td>1</td>\n",
       "      <td>56    Bill Adair\n",
       "dtype: object</td>\n",
       "    </tr>\n",
       "    <tr>\n",
       "      <th>2</th>\n",
       "      <td>adcocjo01</td>\n",
       "      <td>1</td>\n",
       "      <td>95    Joe Adcock\n",
       "dtype: object</td>\n",
       "    </tr>\n",
       "    <tr>\n",
       "      <th>3</th>\n",
       "      <td>addybo01</td>\n",
       "      <td>2</td>\n",
       "      <td>100    Bob Addy\n",
       "dtype: object</td>\n",
       "    </tr>\n",
       "    <tr>\n",
       "      <th>4</th>\n",
       "      <td>allenbo01</td>\n",
       "      <td>2</td>\n",
       "      <td>186    Bob Allen\n",
       "dtype: object</td>\n",
       "    </tr>\n",
       "  </tbody>\n",
       "</table>\n",
       "</div>"
      ],
      "text/plain": [
       "    playerID  Teams_Managed                    Manager Name\n",
       "0   actama99              2  55    Manny Acta\n",
       "dtype: object\n",
       "1  adairbi99              1  56    Bill Adair\n",
       "dtype: object\n",
       "2  adcocjo01              1  95    Joe Adcock\n",
       "dtype: object\n",
       "3   addybo01              2   100    Bob Addy\n",
       "dtype: object\n",
       "4  allenbo01              2  186    Bob Allen\n",
       "dtype: object"
      ]
     },
     "execution_count": 15,
     "metadata": {},
     "output_type": "execute_result"
    }
   ],
   "source": [
    "managerByTeamCount.head()"
   ]
  },
  {
   "cell_type": "markdown",
   "metadata": {
    "collapsed": true
   },
   "source": [
    "### Finding Managers who managed the maximum teams"
   ]
  },
  {
   "cell_type": "code",
   "execution_count": 16,
   "metadata": {
    "collapsed": false
   },
   "outputs": [],
   "source": [
    "managerByTeamCount.sort_values(by='Teams_Managed', axis=0, ascending=False, inplace=True, kind='quicksort', na_position='last')"
   ]
  },
  {
   "cell_type": "code",
   "execution_count": 17,
   "metadata": {
    "collapsed": false
   },
   "outputs": [
    {
     "data": {
      "text/html": [
       "<div>\n",
       "<table border=\"1\" class=\"dataframe\">\n",
       "  <thead>\n",
       "    <tr style=\"text-align: right;\">\n",
       "      <th></th>\n",
       "      <th>playerID</th>\n",
       "      <th>Teams_Managed</th>\n",
       "      <th>Manager Name</th>\n",
       "    </tr>\n",
       "  </thead>\n",
       "  <tbody>\n",
       "    <tr>\n",
       "      <th>178</th>\n",
       "      <td>fergubo01</td>\n",
       "      <td>9</td>\n",
       "      <td>5202    Bob Ferguson\n",
       "dtype: object</td>\n",
       "    </tr>\n",
       "    <tr>\n",
       "      <th>89</th>\n",
       "      <td>chapmja01</td>\n",
       "      <td>7</td>\n",
       "      <td>2838    Jack Chapman\n",
       "dtype: object</td>\n",
       "    </tr>\n",
       "    <tr>\n",
       "      <th>22</th>\n",
       "      <td>bancrfr99</td>\n",
       "      <td>7</td>\n",
       "      <td>691    Frank Bancroft\n",
       "dtype: object</td>\n",
       "    </tr>\n",
       "    <tr>\n",
       "      <th>158</th>\n",
       "      <td>dykesji01</td>\n",
       "      <td>6</td>\n",
       "      <td>4731    Jimmy Dykes\n",
       "dtype: object</td>\n",
       "    </tr>\n",
       "    <tr>\n",
       "      <th>358</th>\n",
       "      <td>loftuto01</td>\n",
       "      <td>6</td>\n",
       "      <td>9983    Tom Loftus\n",
       "dtype: object</td>\n",
       "    </tr>\n",
       "    <tr>\n",
       "      <th>91</th>\n",
       "      <td>clappjo01</td>\n",
       "      <td>6</td>\n",
       "      <td>2990    John Clapp\n",
       "dtype: object</td>\n",
       "    </tr>\n",
       "    <tr>\n",
       "      <th>557</th>\n",
       "      <td>schmegu99</td>\n",
       "      <td>6</td>\n",
       "      <td>15168    Gus Schmelz\n",
       "dtype: object</td>\n",
       "    </tr>\n",
       "    <tr>\n",
       "      <th>417</th>\n",
       "      <td>mcnamjo99</td>\n",
       "      <td>6</td>\n",
       "      <td>11225    John McNamara\n",
       "dtype: object</td>\n",
       "    </tr>\n",
       "    <tr>\n",
       "      <th>282</th>\n",
       "      <td>hornsro01</td>\n",
       "      <td>6</td>\n",
       "      <td>7858    Rogers Hornsby\n",
       "dtype: object</td>\n",
       "    </tr>\n",
       "    <tr>\n",
       "      <th>671</th>\n",
       "      <td>willidi02</td>\n",
       "      <td>6</td>\n",
       "      <td>18240    Dick Williams\n",
       "dtype: object</td>\n",
       "    </tr>\n",
       "  </tbody>\n",
       "</table>\n",
       "</div>"
      ],
      "text/plain": [
       "      playerID  Teams_Managed                          Manager Name\n",
       "178  fergubo01              9    5202    Bob Ferguson\n",
       "dtype: object\n",
       "89   chapmja01              7    2838    Jack Chapman\n",
       "dtype: object\n",
       "22   bancrfr99              7   691    Frank Bancroft\n",
       "dtype: object\n",
       "158  dykesji01              6     4731    Jimmy Dykes\n",
       "dtype: object\n",
       "358  loftuto01              6      9983    Tom Loftus\n",
       "dtype: object\n",
       "91   clappjo01              6      2990    John Clapp\n",
       "dtype: object\n",
       "557  schmegu99              6    15168    Gus Schmelz\n",
       "dtype: object\n",
       "417  mcnamjo99              6  11225    John McNamara\n",
       "dtype: object\n",
       "282  hornsro01              6  7858    Rogers Hornsby\n",
       "dtype: object\n",
       "671  willidi02              6  18240    Dick Williams\n",
       "dtype: object"
      ]
     },
     "execution_count": 17,
     "metadata": {},
     "output_type": "execute_result"
    }
   ],
   "source": [
    "managerByTeamCount[0:10]"
   ]
  },
  {
   "cell_type": "markdown",
   "metadata": {
    "collapsed": true
   },
   "source": [
    "### Tenure of managers with different teams\n",
    "\n",
    "I have grouped the data, first by Manager Id and then by TeamId to get the count of number of years each manager was with one team. \n",
    "\n",
    "The count is then copied as a seperate column in another dataframe, and then the frequency of specific counts is calculated to create a chart."
   ]
  },
  {
   "cell_type": "code",
   "execution_count": 18,
   "metadata": {
    "collapsed": true
   },
   "outputs": [],
   "source": [
    "manager_groupDF = managersDF.groupby(['playerID', 'teamID']).G.agg(['count'])\n",
    "#this groups by playerID and teamId and get the count"
   ]
  },
  {
   "cell_type": "code",
   "execution_count": 19,
   "metadata": {
    "collapsed": false
   },
   "outputs": [
    {
     "data": {
      "text/html": [
       "<div>\n",
       "<table border=\"1\" class=\"dataframe\">\n",
       "  <thead>\n",
       "    <tr style=\"text-align: right;\">\n",
       "      <th></th>\n",
       "      <th></th>\n",
       "      <th>count</th>\n",
       "    </tr>\n",
       "    <tr>\n",
       "      <th>playerID</th>\n",
       "      <th>teamID</th>\n",
       "      <th></th>\n",
       "    </tr>\n",
       "  </thead>\n",
       "  <tbody>\n",
       "    <tr>\n",
       "      <th rowspan=\"2\" valign=\"top\">actama99</th>\n",
       "      <th>CLE</th>\n",
       "      <td>3</td>\n",
       "    </tr>\n",
       "    <tr>\n",
       "      <th>WAS</th>\n",
       "      <td>3</td>\n",
       "    </tr>\n",
       "    <tr>\n",
       "      <th>adairbi99</th>\n",
       "      <th>CHA</th>\n",
       "      <td>1</td>\n",
       "    </tr>\n",
       "    <tr>\n",
       "      <th>adcocjo01</th>\n",
       "      <th>CLE</th>\n",
       "      <td>1</td>\n",
       "    </tr>\n",
       "    <tr>\n",
       "      <th>addybo01</th>\n",
       "      <th>CN1</th>\n",
       "      <td>1</td>\n",
       "    </tr>\n",
       "  </tbody>\n",
       "</table>\n",
       "</div>"
      ],
      "text/plain": [
       "                  count\n",
       "playerID  teamID       \n",
       "actama99  CLE         3\n",
       "          WAS         3\n",
       "adairbi99 CHA         1\n",
       "adcocjo01 CLE         1\n",
       "addybo01  CN1         1"
      ]
     },
     "execution_count": 19,
     "metadata": {},
     "output_type": "execute_result"
    }
   ],
   "source": [
    "manager_groupDF.head()"
   ]
  },
  {
   "cell_type": "code",
   "execution_count": 20,
   "metadata": {
    "collapsed": false
   },
   "outputs": [
    {
     "data": {
      "text/plain": [
       "count    2.87\n",
       "dtype: float64"
      ]
     },
     "execution_count": 20,
     "metadata": {},
     "output_type": "execute_result"
    }
   ],
   "source": [
    "#Calculating average tenure of all managers\n",
    "avgTenure = manager_groupDF.mean().round(2)\n",
    "avgTenure"
   ]
  },
  {
   "cell_type": "code",
   "execution_count": 21,
   "metadata": {
    "collapsed": true
   },
   "outputs": [],
   "source": [
    "managerCount = manager_groupDF.add_suffix('_Count').reset_index()\n",
    "#This creates the count as a seperate column in the managerCount data frame"
   ]
  },
  {
   "cell_type": "code",
   "execution_count": 22,
   "metadata": {
    "collapsed": true
   },
   "outputs": [],
   "source": [
    "managerCountDF = managerCount.groupby(['count_Count']).agg(['count'])"
   ]
  },
  {
   "cell_type": "code",
   "execution_count": 23,
   "metadata": {
    "collapsed": false
   },
   "outputs": [],
   "source": [
    "managerContSum = managerCountDF.playerID['count'].sum()"
   ]
  },
  {
   "cell_type": "code",
   "execution_count": 26,
   "metadata": {
    "collapsed": false
   },
   "outputs": [],
   "source": [
    "\n",
    "managerCountDF['Count_Percentage'] =  (managerCountDF.playerID['count']/managerContSum)*100\n",
    "# Now we are taking frequncies(counts) of the original counts, and finding their percentages"
   ]
  },
  {
   "cell_type": "code",
   "execution_count": 27,
   "metadata": {
    "collapsed": true
   },
   "outputs": [],
   "source": [
    "managerCountDF.index.names = ['Tenure']"
   ]
  },
  {
   "cell_type": "code",
   "execution_count": 28,
   "metadata": {
    "collapsed": false
   },
   "outputs": [
    {
     "data": {
      "text/plain": [
       "array([<matplotlib.axes._subplots.AxesSubplot object at 0x000000AC98FB0F28>], dtype=object)"
      ]
     },
     "execution_count": 28,
     "metadata": {},
     "output_type": "execute_result"
    },
    {
     "data": {
      "image/png": "[encoded data removed]",
      "text/plain": [
       "<matplotlib.figure.Figure at 0xac98fa63c8>"
      ]
     },
     "metadata": {},
     "output_type": "display_data"
    }
   ],
   "source": [
    "managerCountDF[['Count_Percentage']].plot(kind='bar',subplots=True, legend=None, label='Count_pct')"
   ]
  },
  {
   "cell_type": "markdown",
   "metadata": {},
   "source": [
    "_Note: There are 696 managers, but 1,187 unique manager-team combination_"
   ]
  },
  {
   "cell_type": "code",
   "execution_count": 29,
   "metadata": {
    "collapsed": false
   },
   "outputs": [
    {
     "data": {
      "text/html": [
       "<div>\n",
       "<table border=\"1\" class=\"dataframe\">\n",
       "  <thead>\n",
       "    <tr>\n",
       "      <th></th>\n",
       "      <th>playerID</th>\n",
       "      <th>teamID</th>\n",
       "      <th>Count_pct</th>\n",
       "      <th>Count_Percentage</th>\n",
       "    </tr>\n",
       "    <tr>\n",
       "      <th></th>\n",
       "      <th>count</th>\n",
       "      <th>count</th>\n",
       "      <th></th>\n",
       "      <th></th>\n",
       "    </tr>\n",
       "    <tr>\n",
       "      <th>Tenure</th>\n",
       "      <th></th>\n",
       "      <th></th>\n",
       "      <th></th>\n",
       "      <th></th>\n",
       "    </tr>\n",
       "  </thead>\n",
       "  <tbody>\n",
       "    <tr>\n",
       "      <th>1</th>\n",
       "      <td>500</td>\n",
       "      <td>500</td>\n",
       "      <td>42.122999</td>\n",
       "      <td>42.122999</td>\n",
       "    </tr>\n",
       "    <tr>\n",
       "      <th>2</th>\n",
       "      <td>219</td>\n",
       "      <td>219</td>\n",
       "      <td>18.449874</td>\n",
       "      <td>18.449874</td>\n",
       "    </tr>\n",
       "    <tr>\n",
       "      <th>3</th>\n",
       "      <td>188</td>\n",
       "      <td>188</td>\n",
       "      <td>15.838248</td>\n",
       "      <td>15.838248</td>\n",
       "    </tr>\n",
       "    <tr>\n",
       "      <th>4</th>\n",
       "      <td>95</td>\n",
       "      <td>95</td>\n",
       "      <td>8.003370</td>\n",
       "      <td>8.003370</td>\n",
       "    </tr>\n",
       "    <tr>\n",
       "      <th>5</th>\n",
       "      <td>56</td>\n",
       "      <td>56</td>\n",
       "      <td>4.717776</td>\n",
       "      <td>4.717776</td>\n",
       "    </tr>\n",
       "    <tr>\n",
       "      <th>6</th>\n",
       "      <td>30</td>\n",
       "      <td>30</td>\n",
       "      <td>2.527380</td>\n",
       "      <td>2.527380</td>\n",
       "    </tr>\n",
       "    <tr>\n",
       "      <th>7</th>\n",
       "      <td>25</td>\n",
       "      <td>25</td>\n",
       "      <td>2.106150</td>\n",
       "      <td>2.106150</td>\n",
       "    </tr>\n",
       "    <tr>\n",
       "      <th>8</th>\n",
       "      <td>23</td>\n",
       "      <td>23</td>\n",
       "      <td>1.937658</td>\n",
       "      <td>1.937658</td>\n",
       "    </tr>\n",
       "    <tr>\n",
       "      <th>9</th>\n",
       "      <td>13</td>\n",
       "      <td>13</td>\n",
       "      <td>1.095198</td>\n",
       "      <td>1.095198</td>\n",
       "    </tr>\n",
       "    <tr>\n",
       "      <th>10</th>\n",
       "      <td>5</td>\n",
       "      <td>5</td>\n",
       "      <td>0.421230</td>\n",
       "      <td>0.421230</td>\n",
       "    </tr>\n",
       "    <tr>\n",
       "      <th>11</th>\n",
       "      <td>5</td>\n",
       "      <td>5</td>\n",
       "      <td>0.421230</td>\n",
       "      <td>0.421230</td>\n",
       "    </tr>\n",
       "    <tr>\n",
       "      <th>12</th>\n",
       "      <td>6</td>\n",
       "      <td>6</td>\n",
       "      <td>0.505476</td>\n",
       "      <td>0.505476</td>\n",
       "    </tr>\n",
       "    <tr>\n",
       "      <th>13</th>\n",
       "      <td>4</td>\n",
       "      <td>4</td>\n",
       "      <td>0.336984</td>\n",
       "      <td>0.336984</td>\n",
       "    </tr>\n",
       "    <tr>\n",
       "      <th>14</th>\n",
       "      <td>3</td>\n",
       "      <td>3</td>\n",
       "      <td>0.252738</td>\n",
       "      <td>0.252738</td>\n",
       "    </tr>\n",
       "    <tr>\n",
       "      <th>15</th>\n",
       "      <td>1</td>\n",
       "      <td>1</td>\n",
       "      <td>0.084246</td>\n",
       "      <td>0.084246</td>\n",
       "    </tr>\n",
       "    <tr>\n",
       "      <th>16</th>\n",
       "      <td>4</td>\n",
       "      <td>4</td>\n",
       "      <td>0.336984</td>\n",
       "      <td>0.336984</td>\n",
       "    </tr>\n",
       "    <tr>\n",
       "      <th>17</th>\n",
       "      <td>2</td>\n",
       "      <td>2</td>\n",
       "      <td>0.168492</td>\n",
       "      <td>0.168492</td>\n",
       "    </tr>\n",
       "    <tr>\n",
       "      <th>18</th>\n",
       "      <td>2</td>\n",
       "      <td>2</td>\n",
       "      <td>0.168492</td>\n",
       "      <td>0.168492</td>\n",
       "    </tr>\n",
       "    <tr>\n",
       "      <th>19</th>\n",
       "      <td>2</td>\n",
       "      <td>2</td>\n",
       "      <td>0.168492</td>\n",
       "      <td>0.168492</td>\n",
       "    </tr>\n",
       "    <tr>\n",
       "      <th>21</th>\n",
       "      <td>1</td>\n",
       "      <td>1</td>\n",
       "      <td>0.084246</td>\n",
       "      <td>0.084246</td>\n",
       "    </tr>\n",
       "    <tr>\n",
       "      <th>25</th>\n",
       "      <td>1</td>\n",
       "      <td>1</td>\n",
       "      <td>0.084246</td>\n",
       "      <td>0.084246</td>\n",
       "    </tr>\n",
       "    <tr>\n",
       "      <th>33</th>\n",
       "      <td>1</td>\n",
       "      <td>1</td>\n",
       "      <td>0.084246</td>\n",
       "      <td>0.084246</td>\n",
       "    </tr>\n",
       "    <tr>\n",
       "      <th>50</th>\n",
       "      <td>1</td>\n",
       "      <td>1</td>\n",
       "      <td>0.084246</td>\n",
       "      <td>0.084246</td>\n",
       "    </tr>\n",
       "  </tbody>\n",
       "</table>\n",
       "</div>"
      ],
      "text/plain": [
       "       playerID teamID  Count_pct Count_Percentage\n",
       "          count  count                            \n",
       "Tenure                                            \n",
       "1           500    500  42.122999        42.122999\n",
       "2           219    219  18.449874        18.449874\n",
       "3           188    188  15.838248        15.838248\n",
       "4            95     95   8.003370         8.003370\n",
       "5            56     56   4.717776         4.717776\n",
       "6            30     30   2.527380         2.527380\n",
       "7            25     25   2.106150         2.106150\n",
       "8            23     23   1.937658         1.937658\n",
       "9            13     13   1.095198         1.095198\n",
       "10            5      5   0.421230         0.421230\n",
       "11            5      5   0.421230         0.421230\n",
       "12            6      6   0.505476         0.505476\n",
       "13            4      4   0.336984         0.336984\n",
       "14            3      3   0.252738         0.252738\n",
       "15            1      1   0.084246         0.084246\n",
       "16            4      4   0.336984         0.336984\n",
       "17            2      2   0.168492         0.168492\n",
       "18            2      2   0.168492         0.168492\n",
       "19            2      2   0.168492         0.168492\n",
       "21            1      1   0.084246         0.084246\n",
       "25            1      1   0.084246         0.084246\n",
       "33            1      1   0.084246         0.084246\n",
       "50            1      1   0.084246         0.084246"
      ]
     },
     "execution_count": 29,
     "metadata": {},
     "output_type": "execute_result"
    }
   ],
   "source": [
    "managerCountDF"
   ]
  },
  {
   "cell_type": "markdown",
   "metadata": {},
   "source": [
    "### Finding managers with highest tenures"
   ]
  },
  {
   "cell_type": "code",
   "execution_count": 30,
   "metadata": {
    "collapsed": true
   },
   "outputs": [],
   "source": [
    "manager_groupDF.sort_values(by='count', axis=0, ascending=False, inplace=True, kind='quicksort', na_position='last')\n"
   ]
  },
  {
   "cell_type": "code",
   "execution_count": 31,
   "metadata": {
    "collapsed": false
   },
   "outputs": [
    {
     "data": {
      "text/html": [
       "<div>\n",
       "<table border=\"1\" class=\"dataframe\">\n",
       "  <thead>\n",
       "    <tr style=\"text-align: right;\">\n",
       "      <th></th>\n",
       "      <th></th>\n",
       "      <th>count</th>\n",
       "    </tr>\n",
       "    <tr>\n",
       "      <th>playerID</th>\n",
       "      <th>teamID</th>\n",
       "      <th></th>\n",
       "    </tr>\n",
       "  </thead>\n",
       "  <tbody>\n",
       "    <tr>\n",
       "      <th>mackco01</th>\n",
       "      <th>PHA</th>\n",
       "      <td>50</td>\n",
       "    </tr>\n",
       "    <tr>\n",
       "      <th>mcgrajo01</th>\n",
       "      <th>NY1</th>\n",
       "      <td>33</td>\n",
       "    </tr>\n",
       "    <tr>\n",
       "      <th>coxbo01</th>\n",
       "      <th>ATL</th>\n",
       "      <td>25</td>\n",
       "    </tr>\n",
       "    <tr>\n",
       "      <th>lasorto01</th>\n",
       "      <th>LAN</th>\n",
       "      <td>21</td>\n",
       "    </tr>\n",
       "    <tr>\n",
       "      <th>alstowa01</th>\n",
       "      <th>LAN</th>\n",
       "      <td>19</td>\n",
       "    </tr>\n",
       "  </tbody>\n",
       "</table>\n",
       "</div>"
      ],
      "text/plain": [
       "                  count\n",
       "playerID  teamID       \n",
       "mackco01  PHA        50\n",
       "mcgrajo01 NY1        33\n",
       "coxbo01   ATL        25\n",
       "lasorto01 LAN        21\n",
       "alstowa01 LAN        19"
      ]
     },
     "execution_count": 31,
     "metadata": {},
     "output_type": "execute_result"
    }
   ],
   "source": [
    "manager_groupDF.head()"
   ]
  },
  {
   "cell_type": "code",
   "execution_count": 32,
   "metadata": {
    "collapsed": false
   },
   "outputs": [
    {
     "data": {
      "text/plain": [
       "col2    10266    Connie Mack\n",
       "dtype: object\n",
       "dtype: object"
      ]
     },
     "execution_count": 32,
     "metadata": {},
     "output_type": "execute_result"
    }
   ],
   "source": [
    "# Finding manager with highest tenure\n",
    "findName ('mackco01')"
   ]
  },
  {
   "cell_type": "code",
   "execution_count": 33,
   "metadata": {
    "collapsed": false
   },
   "outputs": [
    {
     "data": {
      "text/plain": [
       "1258    Philadelphia Athletics\n",
       "Name: name, dtype: object"
      ]
     },
     "execution_count": 33,
     "metadata": {},
     "output_type": "execute_result"
    }
   ],
   "source": [
    "# Finding the team he worked with\n",
    "getTeam ('PHA')"
   ]
  },
  {
   "cell_type": "markdown",
   "metadata": {},
   "source": [
    "## 2) Comparing manager's tenure and team's average ranking"
   ]
  },
  {
   "cell_type": "markdown",
   "metadata": {},
   "source": [
    "* Since some managers worked with more than one team, and some teams had more than one manager, in order to find unique combinations of managers and teams, I have created a new column 'Player_Team' -  which assigns a specific manager to a specific team. \n",
    "* Further, I have added another column for winning % (win_pct), which is a percentage of games won over games played."
   ]
  },
  {
   "cell_type": "code",
   "execution_count": 34,
   "metadata": {
    "collapsed": false
   },
   "outputs": [
    {
     "data": {
      "text/html": [
       "<div>\n",
       "<table border=\"1\" class=\"dataframe\">\n",
       "  <thead>\n",
       "    <tr style=\"text-align: right;\">\n",
       "      <th></th>\n",
       "      <th>playerID</th>\n",
       "      <th>yearID</th>\n",
       "      <th>teamID</th>\n",
       "      <th>lgID</th>\n",
       "      <th>inseason</th>\n",
       "      <th>G</th>\n",
       "      <th>W</th>\n",
       "      <th>L</th>\n",
       "      <th>rank</th>\n",
       "      <th>plyrMgr</th>\n",
       "      <th>Player_Team</th>\n",
       "      <th>win_pct</th>\n",
       "    </tr>\n",
       "  </thead>\n",
       "  <tbody>\n",
       "    <tr>\n",
       "      <th>0</th>\n",
       "      <td>wrighha01</td>\n",
       "      <td>1871</td>\n",
       "      <td>BS1</td>\n",
       "      <td>NaN</td>\n",
       "      <td>1</td>\n",
       "      <td>31</td>\n",
       "      <td>20</td>\n",
       "      <td>10</td>\n",
       "      <td>3.0</td>\n",
       "      <td>Y</td>\n",
       "      <td>wrighha01,BS1</td>\n",
       "      <td>64.516129</td>\n",
       "    </tr>\n",
       "    <tr>\n",
       "      <th>1</th>\n",
       "      <td>woodji01</td>\n",
       "      <td>1871</td>\n",
       "      <td>CH1</td>\n",
       "      <td>NaN</td>\n",
       "      <td>1</td>\n",
       "      <td>28</td>\n",
       "      <td>19</td>\n",
       "      <td>9</td>\n",
       "      <td>2.0</td>\n",
       "      <td>Y</td>\n",
       "      <td>woodji01,CH1</td>\n",
       "      <td>67.857143</td>\n",
       "    </tr>\n",
       "    <tr>\n",
       "      <th>2</th>\n",
       "      <td>paborch01</td>\n",
       "      <td>1871</td>\n",
       "      <td>CL1</td>\n",
       "      <td>NaN</td>\n",
       "      <td>1</td>\n",
       "      <td>29</td>\n",
       "      <td>10</td>\n",
       "      <td>19</td>\n",
       "      <td>8.0</td>\n",
       "      <td>Y</td>\n",
       "      <td>paborch01,CL1</td>\n",
       "      <td>34.482759</td>\n",
       "    </tr>\n",
       "    <tr>\n",
       "      <th>3</th>\n",
       "      <td>lennobi01</td>\n",
       "      <td>1871</td>\n",
       "      <td>FW1</td>\n",
       "      <td>NaN</td>\n",
       "      <td>1</td>\n",
       "      <td>14</td>\n",
       "      <td>5</td>\n",
       "      <td>9</td>\n",
       "      <td>8.0</td>\n",
       "      <td>Y</td>\n",
       "      <td>lennobi01,FW1</td>\n",
       "      <td>35.714286</td>\n",
       "    </tr>\n",
       "    <tr>\n",
       "      <th>4</th>\n",
       "      <td>deaneha01</td>\n",
       "      <td>1871</td>\n",
       "      <td>FW1</td>\n",
       "      <td>NaN</td>\n",
       "      <td>2</td>\n",
       "      <td>5</td>\n",
       "      <td>2</td>\n",
       "      <td>3</td>\n",
       "      <td>8.0</td>\n",
       "      <td>Y</td>\n",
       "      <td>deaneha01,FW1</td>\n",
       "      <td>40.000000</td>\n",
       "    </tr>\n",
       "  </tbody>\n",
       "</table>\n",
       "</div>"
      ],
      "text/plain": [
       "    playerID  yearID teamID lgID  inseason   G   W   L  rank plyrMgr  \\\n",
       "0  wrighha01    1871    BS1  NaN         1  31  20  10   3.0       Y   \n",
       "1   woodji01    1871    CH1  NaN         1  28  19   9   2.0       Y   \n",
       "2  paborch01    1871    CL1  NaN         1  29  10  19   8.0       Y   \n",
       "3  lennobi01    1871    FW1  NaN         1  14   5   9   8.0       Y   \n",
       "4  deaneha01    1871    FW1  NaN         2   5   2   3   8.0       Y   \n",
       "\n",
       "     Player_Team    win_pct  \n",
       "0  wrighha01,BS1  64.516129  \n",
       "1   woodji01,CH1  67.857143  \n",
       "2  paborch01,CL1  34.482759  \n",
       "3  lennobi01,FW1  35.714286  \n",
       "4  deaneha01,FW1  40.000000  "
      ]
     },
     "execution_count": 34,
     "metadata": {},
     "output_type": "execute_result"
    }
   ],
   "source": [
    "managersDF['Player_Team'] = managersDF['playerID']+\",\"+managersDF['teamID']\n",
    "managersDF['win_pct'] = (managersDF['W']/managersDF['G'])*100\n",
    "managersDF.head()"
   ]
  },
  {
   "cell_type": "code",
   "execution_count": 35,
   "metadata": {
    "collapsed": false
   },
   "outputs": [],
   "source": [
    "#Finding unique Player_team >>> Answer: 1187\n",
    "uniqueManager = pd.unique(managersDF['Player_Team'])\n"
   ]
  },
  {
   "cell_type": "code",
   "execution_count": 36,
   "metadata": {
    "collapsed": false
   },
   "outputs": [
    {
     "data": {
      "text/plain": [
       "1187"
      ]
     },
     "execution_count": 36,
     "metadata": {},
     "output_type": "execute_result"
    }
   ],
   "source": [
    "len(uniqueManager)"
   ]
  },
  {
   "cell_type": "markdown",
   "metadata": {},
   "source": [
    "Now, for every unique Player_Team, I have created a small array that filters the years for which a manager was with one team and calculates the average ranking during those years. \n",
    "\n",
    "It also sorts the years in chronological order, and finds the team's ranking in the first year, when the manager joined"
   ]
  },
  {
   "cell_type": "code",
   "execution_count": 37,
   "metadata": {
    "collapsed": false
   },
   "outputs": [],
   "source": [
    "newDF = pd.DataFrame()\n",
    "\n",
    "for manger_id in uniqueManager:\n",
    "    managerTeam = managersDF.loc[managersDF['Player_Team'] == manger_id]\n",
    "    idSplit = manger_id.split(\",\")\n",
    "    managerID = idSplit[0]\n",
    "    managerName = findName (managerID)\n",
    "    teamID = idSplit[1]\n",
    "    teamName = getTeam (teamID)\n",
    "    minYear = managerTeam['yearID'].min() \n",
    "    minYearRank = managerTeam['rank'][managerTeam['yearID'] == minYear].values[0]\n",
    "    avgRanking = managerTeam['rank'].mean()\n",
    "    tenure = len(managerTeam)\n",
    "    newDF = newDF.append({'manager_Team': manger_id, 'joining_Year': minYear, 'join_Year_Rank': minYearRank, 'average_Ranking': avgRanking, 'manager_Tenure': tenure, 'manager_Name': managerName, 'team_Name': teamName}, ignore_index=True)"
   ]
  },
  {
   "cell_type": "code",
   "execution_count": 38,
   "metadata": {
    "collapsed": true
   },
   "outputs": [],
   "source": [
    "# Adding a new column of increase/decrease in average ranking\n",
    "newDF['rank_Change'] = 0 - (newDF.average_Ranking - newDF.join_Year_Rank).round(0)"
   ]
  },
  {
   "cell_type": "code",
   "execution_count": 39,
   "metadata": {
    "collapsed": true
   },
   "outputs": [],
   "source": [
    "# Filtering managers with tenure of more than 2 years\n",
    "finalDF = newDF[newDF.manager_Tenure >= 2]"
   ]
  },
  {
   "cell_type": "markdown",
   "metadata": {},
   "source": [
    "Now, from NewDF, all the managers with tenure of atleast 2 years have been selected, and the increase/ decreasse in their average ranking has been calculated.\n",
    "\n",
    "Logic behind filtering managers with tenure of only 1 years is that team's average ranking will be same as that on the year of joining.\n",
    "\n",
    "Then, top managers witnessing highest increase in average ranking have been filtered.\n",
    "\n",
    "Further, correlation between a manager's tenure and increase in average ranking has been calculated  "
   ]
  },
  {
   "cell_type": "code",
   "execution_count": 40,
   "metadata": {
    "collapsed": true
   },
   "outputs": [],
   "source": [
    "rank_Increase = len(finalDF[finalDF.rank_Change > 0]) \n",
    "rank_Decrease = len(finalDF[finalDF.rank_Change < 0]) \n",
    "rank_Same = len(finalDF[finalDF.rank_Change == 0]) "
   ]
  },
  {
   "cell_type": "code",
   "execution_count": 41,
   "metadata": {
    "collapsed": false
   },
   "outputs": [
    {
     "name": "stdout",
     "output_type": "stream",
     "text": [
      "Increase / decrease in a team's average ranking over a manager's tenure:\n",
      " \n",
      "Average ranking of 229 teams increased during their managers' tenure\n",
      "Average ranking of 213 teams decreased during their managers' tenure\n",
      "Average ranking of 245 teams did not change during their managers' tenure\n"
     ]
    }
   ],
   "source": [
    "print (\"Increase / decrease in a team's average ranking over a manager's tenure:\")\n",
    "print(\" \")\n",
    "print(\"Average ranking of \" + str(rank_Increase) + \" teams increased during their managers' tenure\")\n",
    "print(\"Average ranking of \" + str(rank_Decrease) + \" teams decreased during their managers' tenure\")\n",
    "print(\"Average ranking of \" + str(rank_Same) + \" teams did not change during their managers' tenure\")"
   ]
  },
  {
   "cell_type": "markdown",
   "metadata": {},
   "source": [
    "### Finding top managers with highest ranking increase"
   ]
  },
  {
   "cell_type": "code",
   "execution_count": 42,
   "metadata": {
    "collapsed": false
   },
   "outputs": [],
   "source": [
    "newDF.sort_values(by='rank_Change', axis=0, ascending=False, inplace=True, kind='quicksort', na_position='last')\n"
   ]
  },
  {
   "cell_type": "code",
   "execution_count": 43,
   "metadata": {
    "collapsed": false
   },
   "outputs": [
    {
     "data": {
      "text/html": [
       "<div>\n",
       "<table border=\"1\" class=\"dataframe\">\n",
       "  <thead>\n",
       "    <tr style=\"text-align: right;\">\n",
       "      <th></th>\n",
       "      <th>average_Ranking</th>\n",
       "      <th>join_Year_Rank</th>\n",
       "      <th>joining_Year</th>\n",
       "      <th>manager_Name</th>\n",
       "      <th>manager_Team</th>\n",
       "      <th>manager_Tenure</th>\n",
       "      <th>team_Name</th>\n",
       "      <th>rank_Change</th>\n",
       "    </tr>\n",
       "  </thead>\n",
       "  <tbody>\n",
       "    <tr>\n",
       "      <th>724</th>\n",
       "      <td>3.714286</td>\n",
       "      <td>10.0</td>\n",
       "      <td>1966.0</td>\n",
       "      <td>col2    4706    Leo Durocher\n",
       "dtype: object\n",
       "dty...</td>\n",
       "      <td>durocle01,CHN</td>\n",
       "      <td>7.0</td>\n",
       "      <td>2792    Chicago Cubs\n",
       "Name: name, dtype: object</td>\n",
       "      <td>6.0</td>\n",
       "    </tr>\n",
       "    <tr>\n",
       "      <th>262</th>\n",
       "      <td>3.571429</td>\n",
       "      <td>10.0</td>\n",
       "      <td>1892.0</td>\n",
       "      <td>col2    6955    Ned Hanlon\n",
       "dtype: object\n",
       "dtype...</td>\n",
       "      <td>hanlone01,BLN</td>\n",
       "      <td>7.0</td>\n",
       "      <td>363    Baltimore Orioles\n",
       "Name: name, dtype: ob...</td>\n",
       "      <td>6.0</td>\n",
       "    </tr>\n",
       "    <tr>\n",
       "      <th>742</th>\n",
       "      <td>4.000000</td>\n",
       "      <td>9.0</td>\n",
       "      <td>1968.0</td>\n",
       "      <td>col2    7681    Gil Hodges\n",
       "dtype: object\n",
       "dtype...</td>\n",
       "      <td>hodgegi01,NYN</td>\n",
       "      <td>4.0</td>\n",
       "      <td>2795    New York Mets\n",
       "Name: name, dtype: object</td>\n",
       "      <td>5.0</td>\n",
       "    </tr>\n",
       "    <tr>\n",
       "      <th>352</th>\n",
       "      <td>2.515152</td>\n",
       "      <td>8.0</td>\n",
       "      <td>1902.0</td>\n",
       "      <td>col2    11087    John McGraw\n",
       "dtype: object\n",
       "dty...</td>\n",
       "      <td>mcgrajo01,NY1</td>\n",
       "      <td>33.0</td>\n",
       "      <td>1305    New York Giants\n",
       "Name: name, dtype: object</td>\n",
       "      <td>5.0</td>\n",
       "    </tr>\n",
       "    <tr>\n",
       "      <th>131</th>\n",
       "      <td>5.000000</td>\n",
       "      <td>10.0</td>\n",
       "      <td>1884.0</td>\n",
       "      <td>col2    13378    Horace Phillips\n",
       "dtype: object...</td>\n",
       "      <td>phillho99,PT1</td>\n",
       "      <td>3.0</td>\n",
       "      <td>185    Pittsburg Alleghenys\n",
       "Name: name, dtype:...</td>\n",
       "      <td>5.0</td>\n",
       "    </tr>\n",
       "  </tbody>\n",
       "</table>\n",
       "</div>"
      ],
      "text/plain": [
       "     average_Ranking  join_Year_Rank  joining_Year  \\\n",
       "724         3.714286            10.0        1966.0   \n",
       "262         3.571429            10.0        1892.0   \n",
       "742         4.000000             9.0        1968.0   \n",
       "352         2.515152             8.0        1902.0   \n",
       "131         5.000000            10.0        1884.0   \n",
       "\n",
       "                                          manager_Name   manager_Team  \\\n",
       "724  col2    4706    Leo Durocher\n",
       "dtype: object\n",
       "dty...  durocle01,CHN   \n",
       "262  col2    6955    Ned Hanlon\n",
       "dtype: object\n",
       "dtype...  hanlone01,BLN   \n",
       "742  col2    7681    Gil Hodges\n",
       "dtype: object\n",
       "dtype...  hodgegi01,NYN   \n",
       "352  col2    11087    John McGraw\n",
       "dtype: object\n",
       "dty...  mcgrajo01,NY1   \n",
       "131  col2    13378    Horace Phillips\n",
       "dtype: object...  phillho99,PT1   \n",
       "\n",
       "     manager_Tenure                                          team_Name  \\\n",
       "724             7.0     2792    Chicago Cubs\n",
       "Name: name, dtype: object   \n",
       "262             7.0  363    Baltimore Orioles\n",
       "Name: name, dtype: ob...   \n",
       "742             4.0    2795    New York Mets\n",
       "Name: name, dtype: object   \n",
       "352            33.0  1305    New York Giants\n",
       "Name: name, dtype: object   \n",
       "131             3.0  185    Pittsburg Alleghenys\n",
       "Name: name, dtype:...   \n",
       "\n",
       "     rank_Change  \n",
       "724          6.0  \n",
       "262          6.0  \n",
       "742          5.0  \n",
       "352          5.0  \n",
       "131          5.0  "
      ]
     },
     "execution_count": 43,
     "metadata": {},
     "output_type": "execute_result"
    }
   ],
   "source": [
    "newDF.head()"
   ]
  },
  {
   "cell_type": "markdown",
   "metadata": {
    "collapsed": true
   },
   "source": [
    "### Finding correlation between manager's tenure and change in average ranking "
   ]
  },
  {
   "cell_type": "code",
   "execution_count": 44,
   "metadata": {
    "collapsed": true
   },
   "outputs": [],
   "source": [
    "def correlation(x,y):\n",
    "\n",
    "    std_x = (x-x.mean()) / x.std(ddof=0)\n",
    "    std_y = (y-y.mean()) / y.std(ddof=0)\n",
    "    \n",
    "    return (std_x * std_y).mean()"
   ]
  },
  {
   "cell_type": "code",
   "execution_count": 45,
   "metadata": {
    "collapsed": false
   },
   "outputs": [
    {
     "name": "stdout",
     "output_type": "stream",
     "text": [
      "Correlation betwwen managers' tenure and change in teams' ranking is: 0.17897903528037765\n"
     ]
    }
   ],
   "source": [
    "corr = (correlation(newDF['manager_Tenure'],newDF['rank_Change']))\n",
    "print(\"Correlation betwwen managers' tenure and change in teams' ranking is: \"+ str(corr))"
   ]
  },
  {
   "cell_type": "markdown",
   "metadata": {},
   "source": [
    "## 3) Comparing manager's tenure and team's winning %"
   ]
  },
  {
   "cell_type": "markdown",
   "metadata": {
    "collapsed": true
   },
   "source": [
    "Now, for every unique Player_Team, I have created a small array that filters the years for which a manager was with one team and calculates the average winning % during those years. \n",
    "\n",
    "It also sorts the years in chronological order, and finds the team's winning % in the first year, when the manager joined"
   ]
  },
  {
   "cell_type": "code",
   "execution_count": 46,
   "metadata": {
    "collapsed": false
   },
   "outputs": [],
   "source": [
    "winningDF = pd.DataFrame()\n",
    "\n",
    "for manger_id in uniqueManager:\n",
    "    managerTeam = managersDF.loc[managersDF['Player_Team'] == manger_id]\n",
    "    idSplit = manger_id.split(\",\")\n",
    "    managerID = idSplit[0]\n",
    "    managerName = findName (managerID)\n",
    "    teamID = idSplit[1]\n",
    "    teamName = getTeam (teamID)\n",
    "    minYear = managerTeam['yearID'].min()     \n",
    "    minYearwinPCT = managerTeam['win_pct'][managerTeam['yearID'] == minYear].values[0]\n",
    "    avgwinPCT = managerTeam['win_pct'].mean()\n",
    "    tenure = len(managerTeam)    \n",
    "    winningDF = winningDF.append({'manager_Team': manger_id, 'joining_Year': minYear, 'join_Year_Win_PCT': minYearwinPCT, 'average_win_PCT': avgwinPCT, 'manager_Tenure': tenure, 'manager_Name': managerName, 'team_Name': teamName}, ignore_index=True)"
   ]
  },
  {
   "cell_type": "code",
   "execution_count": 47,
   "metadata": {
    "collapsed": true
   },
   "outputs": [],
   "source": [
    "# Adding a new column of increase/decrease in winning %\n",
    "winningDF['win_PCT_Change'] = (winningDF.average_win_PCT - winningDF.join_Year_Win_PCT).round(0)"
   ]
  },
  {
   "cell_type": "code",
   "execution_count": 48,
   "metadata": {
    "collapsed": true
   },
   "outputs": [],
   "source": [
    "# Filtering managers with tenure of more than 2 years\n",
    "winningDF = winningDF[winningDF.manager_Tenure >= 2]"
   ]
  },
  {
   "cell_type": "markdown",
   "metadata": {},
   "source": [
    "Now, from winningDF, all the managers with tenure of atleast 2 years have been selected, and the increase/ decreasse in their winning % has been calculated.\n",
    "\n",
    "Logic behind filtering managers with tenure of only 1 years is that team's winning % will be same as that on the year of joining.\n",
    "\n",
    "Then, top managers witnessing highest increase in winning % have been filtered. \n",
    "\n",
    "Further, correlation between a manager's tenure and increase in average ranking has been calculated  "
   ]
  },
  {
   "cell_type": "code",
   "execution_count": 49,
   "metadata": {
    "collapsed": true
   },
   "outputs": [],
   "source": [
    "win_PCT_Increase = len(winningDF[winningDF.win_PCT_Change > 0]) \n",
    "win_PCT_Decrease = len(winningDF[winningDF.win_PCT_Change < 0]) \n",
    "win_PCT_Same = len(winningDF[winningDF.win_PCT_Change == 0]) "
   ]
  },
  {
   "cell_type": "code",
   "execution_count": 50,
   "metadata": {
    "collapsed": false
   },
   "outputs": [
    {
     "name": "stdout",
     "output_type": "stream",
     "text": [
      "Increase / decrease in a team's average winning % over a manager's tenure:\n",
      " \n",
      "Average winning % of 271 teams increased during their managers' tenure\n",
      "Average winning % of 352 teams decreased during their managers' tenure\n",
      "Average winning % of 64 teams did not change during their managers' tenure\n"
     ]
    }
   ],
   "source": [
    "print (\"Increase / decrease in a team's average winning % over a manager's tenure:\")\n",
    "print(\" \")\n",
    "print(\"Average winning % of \" + str(win_PCT_Increase) + \" teams increased during their managers' tenure\")\n",
    "print(\"Average winning % of \" + str(win_PCT_Decrease) + \" teams decreased during their managers' tenure\")\n",
    "print(\"Average winning % of \" + str(win_PCT_Same) + \" teams did not change during their managers' tenure\")"
   ]
  },
  {
   "cell_type": "markdown",
   "metadata": {},
   "source": [
    "### Finding top managers with highest winning % increase"
   ]
  },
  {
   "cell_type": "code",
   "execution_count": 51,
   "metadata": {
    "collapsed": false
   },
   "outputs": [],
   "source": [
    "winningDF.sort_values(by='win_PCT_Change', axis=0, ascending=False, inplace=True, kind='quicksort', na_position='last')\n"
   ]
  },
  {
   "cell_type": "code",
   "execution_count": 52,
   "metadata": {
    "collapsed": false
   },
   "outputs": [
    {
     "data": {
      "text/html": [
       "<div>\n",
       "<table border=\"1\" class=\"dataframe\">\n",
       "  <thead>\n",
       "    <tr style=\"text-align: right;\">\n",
       "      <th></th>\n",
       "      <th>average_win_PCT</th>\n",
       "      <th>join_Year_Win_PCT</th>\n",
       "      <th>joining_Year</th>\n",
       "      <th>manager_Name</th>\n",
       "      <th>manager_Team</th>\n",
       "      <th>manager_Tenure</th>\n",
       "      <th>team_Name</th>\n",
       "      <th>win_PCT_Change</th>\n",
       "    </tr>\n",
       "  </thead>\n",
       "  <tbody>\n",
       "    <tr>\n",
       "      <th>845</th>\n",
       "      <td>31.790123</td>\n",
       "      <td>0.000000</td>\n",
       "      <td>1978.0</td>\n",
       "      <td>col2    7952    Dick Howser\n",
       "dtype: object\n",
       "dtyp...</td>\n",
       "      <td>howsedi01,NYA</td>\n",
       "      <td>2.0</td>\n",
       "      <td>2781    New York Yankees\n",
       "Name: name, dtype: ob...</td>\n",
       "      <td>32.0</td>\n",
       "    </tr>\n",
       "    <tr>\n",
       "      <th>262</th>\n",
       "      <td>58.583138</td>\n",
       "      <td>32.330827</td>\n",
       "      <td>1892.0</td>\n",
       "      <td>col2    6955    Ned Hanlon\n",
       "dtype: object\n",
       "dtype...</td>\n",
       "      <td>hanlone01,BLN</td>\n",
       "      <td>7.0</td>\n",
       "      <td>363    Baltimore Orioles\n",
       "Name: name, dtype: ob...</td>\n",
       "      <td>26.0</td>\n",
       "    </tr>\n",
       "    <tr>\n",
       "      <th>761</th>\n",
       "      <td>44.533901</td>\n",
       "      <td>18.750000</td>\n",
       "      <td>1970.0</td>\n",
       "      <td>col2    16703    Chuck Tanner\n",
       "dtype: object\n",
       "dt...</td>\n",
       "      <td>tannech01,CHA</td>\n",
       "      <td>6.0</td>\n",
       "      <td>2778    Chicago White Sox\n",
       "Name: name, dtype: o...</td>\n",
       "      <td>26.0</td>\n",
       "    </tr>\n",
       "    <tr>\n",
       "      <th>207</th>\n",
       "      <td>39.332896</td>\n",
       "      <td>14.285714</td>\n",
       "      <td>1889.0</td>\n",
       "      <td>col2    2838    Jack Chapman\n",
       "dtype: object\n",
       "dty...</td>\n",
       "      <td>chapmja01,LS2</td>\n",
       "      <td>3.0</td>\n",
       "      <td>271    Louisville Colonels\n",
       "Name: name, dtype: ...</td>\n",
       "      <td>25.0</td>\n",
       "    </tr>\n",
       "    <tr>\n",
       "      <th>746</th>\n",
       "      <td>77.777778</td>\n",
       "      <td>55.555556</td>\n",
       "      <td>1969.0</td>\n",
       "      <td>col2    13573    Eddie Popowski\n",
       "dtype: object\n",
       "...</td>\n",
       "      <td>popowed99,BOS</td>\n",
       "      <td>2.0</td>\n",
       "      <td>2784    Boston Red Sox\n",
       "Name: name, dtype: object</td>\n",
       "      <td>22.0</td>\n",
       "    </tr>\n",
       "  </tbody>\n",
       "</table>\n",
       "</div>"
      ],
      "text/plain": [
       "     average_win_PCT  join_Year_Win_PCT  joining_Year  \\\n",
       "845        31.790123           0.000000        1978.0   \n",
       "262        58.583138          32.330827        1892.0   \n",
       "761        44.533901          18.750000        1970.0   \n",
       "207        39.332896          14.285714        1889.0   \n",
       "746        77.777778          55.555556        1969.0   \n",
       "\n",
       "                                          manager_Name   manager_Team  \\\n",
       "845  col2    7952    Dick Howser\n",
       "dtype: object\n",
       "dtyp...  howsedi01,NYA   \n",
       "262  col2    6955    Ned Hanlon\n",
       "dtype: object\n",
       "dtype...  hanlone01,BLN   \n",
       "761  col2    16703    Chuck Tanner\n",
       "dtype: object\n",
       "dt...  tannech01,CHA   \n",
       "207  col2    2838    Jack Chapman\n",
       "dtype: object\n",
       "dty...  chapmja01,LS2   \n",
       "746  col2    13573    Eddie Popowski\n",
       "dtype: object\n",
       "...  popowed99,BOS   \n",
       "\n",
       "     manager_Tenure                                          team_Name  \\\n",
       "845             2.0  2781    New York Yankees\n",
       "Name: name, dtype: ob...   \n",
       "262             7.0  363    Baltimore Orioles\n",
       "Name: name, dtype: ob...   \n",
       "761             6.0  2778    Chicago White Sox\n",
       "Name: name, dtype: o...   \n",
       "207             3.0  271    Louisville Colonels\n",
       "Name: name, dtype: ...   \n",
       "746             2.0   2784    Boston Red Sox\n",
       "Name: name, dtype: object   \n",
       "\n",
       "     win_PCT_Change  \n",
       "845            32.0  \n",
       "262            26.0  \n",
       "761            26.0  \n",
       "207            25.0  \n",
       "746            22.0  "
      ]
     },
     "execution_count": 52,
     "metadata": {},
     "output_type": "execute_result"
    }
   ],
   "source": [
    "winningDF.head()"
   ]
  },
  {
   "cell_type": "markdown",
   "metadata": {
    "collapsed": true
   },
   "source": [
    "### Finding correlation between manager's tenure and change in winning %"
   ]
  },
  {
   "cell_type": "code",
   "execution_count": 53,
   "metadata": {
    "collapsed": false
   },
   "outputs": [
    {
     "name": "stdout",
     "output_type": "stream",
     "text": [
      "Correlation between managers' tenure and change in teams' winning % is: 0.1214330456591257\n"
     ]
    }
   ],
   "source": [
    "corrW = (correlation(winningDF['manager_Tenure'],winningDF['win_PCT_Change']))\n",
    "print(\"Correlation between managers' tenure and change in teams' winning % is: \"+ str(corrW))"
   ]
  },
  {
   "cell_type": "markdown",
   "metadata": {
    "collapsed": true
   },
   "source": [
    "## Conclusion\n",
    "\n",
    "The analysis was performed to check if there is any postive correlation between tenure of a manager and increase in team's performance, and we got positive results for that. However, this makes us inquisitive to find the real cause for teams's performance improvements.\n",
    "\n",
    "Since correlation does not mean causation, we will have to dwell further in to regression and other statistcal measures to find how much does a manager's tenure actually helps in a team's performance\n",
    "\n",
    "We will also have to use other dataframes and conduct a comprehensive analysis to check if there is some other important factor that we missed. "
   ]
  },
  {
   "cell_type": "markdown",
   "metadata": {},
   "source": [
    " "
   ]
  },
  {
   "cell_type": "markdown",
   "metadata": {},
   "source": [
    " "
   ]
  },
  {
   "cell_type": "markdown",
   "metadata": {},
   "source": [
    " "
   ]
  },
  {
   "cell_type": "markdown",
   "metadata": {},
   "source": [
    " "
   ]
  },
  {
   "cell_type": "markdown",
   "metadata": {},
   "source": [
    " "
   ]
  }
 ],
 "metadata": {
  "anaconda-cloud": {},
  "kernelspec": {
   "display_name": "Python [default]",
   "language": "python",
   "name": "python3"
  },
  "language_info": {
   "codemirror_mode": {
    "name": "ipython",
    "version": 3
   },
   "file_extension": ".py",
   "mimetype": "text/x-python",
   "name": "python",
   "nbconvert_exporter": "python",
   "pygments_lexer": "ipython3",
   "version": "3.5.2"
  }
 },
 "nbformat": 4,
 "nbformat_minor": 1
}
